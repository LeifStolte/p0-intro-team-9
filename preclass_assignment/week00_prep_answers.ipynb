{
 "cells": [
  {
   "cell_type": "code",
   "execution_count": 1,
   "metadata": {},
   "outputs": [
    {
     "name": "stdout",
     "output_type": "stream",
     "text": [
      "Hello, Rodrigo!\n"
     ]
    }
   ],
   "source": [
    "def greet(name):\n",
    "    print(\"Hello, \" + name + \"!\")\n",
    "\n",
    "greet('Rodrigo')"
   ]
  },
  {
   "cell_type": "code",
   "execution_count": null,
   "metadata": {},
   "outputs": [],
   "source": [
    "def goldilocks(length):\n",
    "    if length < 140:\n",
    "        i = ('Too short!')\n",
    "    elif length > 150:\n",
    "        i = ('Too large!')\n",
    "    else:\n",
    "        i = ('Just right!')\n",
    "    return i\n",
    "\n",
    "goldilocks(145)"
   ]
  },
  {
   "cell_type": "code",
   "execution_count": 5,
   "metadata": {},
   "outputs": [
    {
     "data": {
      "text/plain": [
       "[1, 4, 9, 16, 25]"
      ]
     },
     "execution_count": 5,
     "metadata": {},
     "output_type": "execute_result"
    }
   ],
   "source": [
    "def square_list(list):\n",
    "    return [i**2 for i in list]\n",
    "\n",
    "square_list([1, 2, 3, 4, 5])"
   ]
  },
  {
   "cell_type": "code",
   "execution_count": 7,
   "metadata": {},
   "outputs": [
    {
     "name": "stdout",
     "output_type": "stream",
     "text": [
      "0 1 1 2 3 5 8 13 21 \n"
     ]
    }
   ],
   "source": [
    "def fibonacci_stop(num):\n",
    "    a, b = 0, 1\n",
    "    while a < num:\n",
    "        print(a, end=' ')\n",
    "        a, b = b, a+b\n",
    "    print()\n",
    "\n",
    "fibonacci_stop(30)"
   ]
  },
  {
   "cell_type": "code",
   "execution_count": 10,
   "metadata": {},
   "outputs": [
    {
     "name": "stdout",
     "output_type": "stream",
     "text": [
      "[1, -999, 3, -999, 5]\n"
     ]
    }
   ],
   "source": [
    "def clean_pitch(x, status):\n",
    "    for it, value in enumerate(status):\n",
    "        if value == 1:\n",
    "            x[it] = -999\n",
    "    return print(x)\n",
    "\n",
    "clean_pitch([1, 2, 3, 4, 5], [0, 1, 0, 1, 0])"
   ]
  }
 ],
 "metadata": {
  "kernelspec": {
   "display_name": "base",
   "language": "python",
   "name": "python3"
  },
  "language_info": {
   "codemirror_mode": {
    "name": "ipython",
    "version": 3
   },
   "file_extension": ".py",
   "mimetype": "text/x-python",
   "name": "python",
   "nbconvert_exporter": "python",
   "pygments_lexer": "ipython3",
   "version": "3.11.5"
  }
 },
 "nbformat": 4,
 "nbformat_minor": 2
}
